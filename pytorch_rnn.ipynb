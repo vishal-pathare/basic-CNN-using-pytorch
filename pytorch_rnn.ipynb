{
  "nbformat": 4,
  "nbformat_minor": 0,
  "metadata": {
    "colab": {
      "name": "pytorch_rnn.ipynb",
      "version": "0.3.2",
      "provenance": [],
      "collapsed_sections": []
    },
    "kernelspec": {
      "name": "python3",
      "display_name": "Python 3"
    },
    "accelerator": "GPU"
  },
  "cells": [
    {
      "cell_type": "code",
      "metadata": {
        "id": "JeOxuKViWkjK",
        "colab_type": "code",
        "colab": {}
      },
      "source": [
        "import torch\n",
        "import torch.nn as nn\n",
        "import torch.nn.functional as F\n",
        "import os\n",
        "import numpy as np\n",
        "import torchvision\n",
        "import torchvision.transforms as transforms"
      ],
      "execution_count": 0,
      "outputs": []
    },
    {
      "cell_type": "code",
      "metadata": {
        "id": "Q_5N2AQHpiNF",
        "colab_type": "code",
        "colab": {
          "base_uri": "https://localhost:8080/",
          "height": 260
        },
        "outputId": "78e94804-8927-4d80-ef57-35796f4f52d9"
      },
      "source": [
        "BATCH_SIZE = 64\n",
        "\n",
        "transform = transforms.Compose([transforms.ToTensor()])\n",
        "\n",
        "trainset = torchvision.datasets.MNIST(root = './data', train = True, download = True, transform = transform)\n",
        "\n",
        "trainloader = torch.utils.data.DataLoader(trainset, batch_size = BATCH_SIZE, shuffle = True, num_workers = 2)\n",
        "\n",
        "testset = torchvision.datasets.MNIST(root = './data', train = False, download = True, transform = transform)\n",
        "\n",
        "testloader = torch.utils.data.DataLoader(testset, batch_size = BATCH_SIZE, shuffle = False, num_workers = 2)"
      ],
      "execution_count": 3,
      "outputs": [
        {
          "output_type": "stream",
          "text": [
            "\r0it [00:00, ?it/s]"
          ],
          "name": "stderr"
        },
        {
          "output_type": "stream",
          "text": [
            "Downloading http://yann.lecun.com/exdb/mnist/train-images-idx3-ubyte.gz to ./data/MNIST/raw/train-images-idx3-ubyte.gz\n"
          ],
          "name": "stdout"
        },
        {
          "output_type": "stream",
          "text": [
            "9920512it [00:03, 2671637.53it/s]                             \n"
          ],
          "name": "stderr"
        },
        {
          "output_type": "stream",
          "text": [
            "Extracting ./data/MNIST/raw/train-images-idx3-ubyte.gz\n"
          ],
          "name": "stdout"
        },
        {
          "output_type": "stream",
          "text": [
            "\r0it [00:00, ?it/s]"
          ],
          "name": "stderr"
        },
        {
          "output_type": "stream",
          "text": [
            "Downloading http://yann.lecun.com/exdb/mnist/train-labels-idx1-ubyte.gz to ./data/MNIST/raw/train-labels-idx1-ubyte.gz\n"
          ],
          "name": "stdout"
        },
        {
          "output_type": "stream",
          "text": [
            "32768it [00:00, 58270.67it/s]                           \n",
            "0it [00:00, ?it/s]"
          ],
          "name": "stderr"
        },
        {
          "output_type": "stream",
          "text": [
            "Extracting ./data/MNIST/raw/train-labels-idx1-ubyte.gz\n",
            "Downloading http://yann.lecun.com/exdb/mnist/t10k-images-idx3-ubyte.gz to ./data/MNIST/raw/t10k-images-idx3-ubyte.gz\n"
          ],
          "name": "stdout"
        },
        {
          "output_type": "stream",
          "text": [
            "1654784it [00:01, 853600.77it/s]                            \n",
            "0it [00:00, ?it/s]"
          ],
          "name": "stderr"
        },
        {
          "output_type": "stream",
          "text": [
            "Extracting ./data/MNIST/raw/t10k-images-idx3-ubyte.gz\n",
            "Downloading http://yann.lecun.com/exdb/mnist/t10k-labels-idx1-ubyte.gz to ./data/MNIST/raw/t10k-labels-idx1-ubyte.gz\n"
          ],
          "name": "stdout"
        },
        {
          "output_type": "stream",
          "text": [
            "8192it [00:00, 22028.57it/s]            "
          ],
          "name": "stderr"
        },
        {
          "output_type": "stream",
          "text": [
            "Extracting ./data/MNIST/raw/t10k-labels-idx1-ubyte.gz\n",
            "Processing...\n",
            "Done!\n"
          ],
          "name": "stdout"
        },
        {
          "output_type": "stream",
          "text": [
            "\n"
          ],
          "name": "stderr"
        }
      ]
    },
    {
      "cell_type": "code",
      "metadata": {
        "id": "BnNrd2W2lcHw",
        "colab_type": "code",
        "outputId": "457886fb-458b-497f-80a0-1365b52d99e6",
        "colab": {
          "base_uri": "https://localhost:8080/",
          "height": 269
        }
      },
      "source": [
        "import matplotlib.pyplot as plt\n",
        "\n",
        "def imshow(img):\n",
        "    npimg = img.numpy()\n",
        "    plt.imshow(np.transpose(npimg, (1, 2, 0)))\n",
        "    \n",
        "# get some random training images\n",
        "dataiter = iter(trainloader)\n",
        "images, labels = dataiter.next()\n",
        "\n",
        "# show images\n",
        "imshow(torchvision.utils.make_grid(images))"
      ],
      "execution_count": 4,
      "outputs": [
        {
          "output_type": "display_data",
          "data": {
            "image/png": "[encoded data removed]",
            "text/plain": [
              "<Figure size 432x288 with 1 Axes>"
            ]
          },
          "metadata": {
            "tags": []
          }
        }
      ]
    },
    {
      "cell_type": "code",
      "metadata": {
        "id": "VFIZ_bJFZQx7",
        "colab_type": "code",
        "colab": {}
      },
      "source": [
        "class torchCNN(nn.Module):\n",
        "    def __init__(self):\n",
        "        super(torchCNN, self).__init__()\n",
        "        \n",
        "        self.conv1 = nn.Conv2d(1, 6, 3)\n",
        "        self.conv2 = nn.Conv2d(6, 16, 3)\n",
        "        self.conv3 = nn.Conv2d(16, 32, 3)\n",
        "        self.fc1 = nn.Linear(1 * 1 * 32, 160)\n",
        "        self.fc2 = nn.Linear(160, 100)\n",
        "        self.fc3 = nn.Linear(100, 10)\n",
        "        \n",
        "    def forward(self, X):\n",
        "        X = F.max_pool2d(self.conv1(X), (2, 2))\n",
        "        X = F.max_pool2d(self.conv2(X), (2, 2))\n",
        "        X = F.max_pool2d(self.conv3(X), (2, 2))\n",
        "        X = X.view(-1, self.num_flat_features(X))\n",
        "        X = F.relu(self.fc1(X))\n",
        "        X = F.relu(self.fc2(X))\n",
        "        X = self.fc3(X)\n",
        "        return X\n",
        "        \n",
        "    def num_flat_features(self, X):\n",
        "        num = 1\n",
        "        size = X.size()[1:]\n",
        "        for s in size:\n",
        "            num *= s\n",
        "        return num"
      ],
      "execution_count": 0,
      "outputs": []
    },
    {
      "cell_type": "code",
      "metadata": {
        "id": "mYm3OmOOcxOd",
        "colab_type": "code",
        "outputId": "da8a084c-a012-4fdb-ac08-1a3122b8f1dc",
        "colab": {
          "base_uri": "https://localhost:8080/",
          "height": 364
        }
      },
      "source": [
        "dataiter = iter(trainloader)\n",
        "images, labels = dataiter.next()\n",
        "model = torchCNN()\n",
        "logits = model(images.view(-1, 1, 28, 28))\n",
        "print (logits[0:10])"
      ],
      "execution_count": 6,
      "outputs": [
        {
          "output_type": "stream",
          "text": [
            "tensor([[-0.1513,  0.0585,  0.0704,  0.0350,  0.0018,  0.0755,  0.0425, -0.0349,\n",
            "          0.0218, -0.0499],\n",
            "        [-0.1502,  0.0573,  0.0711,  0.0365,  0.0008,  0.0802,  0.0388, -0.0323,\n",
            "          0.0285, -0.0451],\n",
            "        [-0.1538,  0.0566,  0.0697,  0.0397, -0.0027,  0.0728,  0.0336, -0.0322,\n",
            "          0.0250, -0.0510],\n",
            "        [-0.1501,  0.0579,  0.0696,  0.0370, -0.0004,  0.0740,  0.0381, -0.0308,\n",
            "          0.0265, -0.0461],\n",
            "        [-0.1595,  0.0548,  0.0719,  0.0463,  0.0018,  0.0737,  0.0338, -0.0332,\n",
            "          0.0239, -0.0491],\n",
            "        [-0.1600,  0.0564,  0.0698,  0.0426, -0.0044,  0.0745,  0.0412, -0.0380,\n",
            "          0.0231, -0.0502],\n",
            "        [-0.1484,  0.0588,  0.0671,  0.0373,  0.0012,  0.0756,  0.0359, -0.0316,\n",
            "          0.0240, -0.0446],\n",
            "        [-0.1531,  0.0600,  0.0687,  0.0381, -0.0004,  0.0715,  0.0409, -0.0331,\n",
            "          0.0221, -0.0457],\n",
            "        [-0.1624,  0.0580,  0.0714,  0.0402,  0.0024,  0.0736,  0.0413, -0.0360,\n",
            "          0.0233, -0.0533],\n",
            "        [-0.1523,  0.0563,  0.0684,  0.0387, -0.0024,  0.0777,  0.0396, -0.0362,\n",
            "          0.0260, -0.0479]], grad_fn=<SliceBackward>)\n"
          ],
          "name": "stdout"
        }
      ]
    },
    {
      "cell_type": "code",
      "metadata": {
        "id": "5V0kjLWRxBYS",
        "colab_type": "code",
        "colab": {}
      },
      "source": [
        "device = 'cuda'"
      ],
      "execution_count": 0,
      "outputs": []
    },
    {
      "cell_type": "code",
      "metadata": {
        "id": "AN-qVqoGd5_G",
        "colab_type": "code",
        "colab": {}
      },
      "source": [
        "import torch.optim as optim\n",
        "\n",
        "use_cuda = True\n",
        "\n",
        "model = torchCNN()\n",
        "criterion = nn.CrossEntropyLoss()\n",
        "optimizer = optim.Adam(model.parameters(), lr = 0.01)\n",
        "\n",
        "def get_accuracy(logit, target, batch_size):\n",
        "    corrects = (torch.max(logit, 1)[1].view(target.size()).data == target.data).sum()\n",
        "    accuracy = 100.0 * corrects / batch_size\n",
        "    return accuracy.item()"
      ],
      "execution_count": 0,
      "outputs": []
    },
    {
      "cell_type": "code",
      "metadata": {
        "id": "5neyCQDctP3D",
        "colab_type": "code",
        "outputId": "081ec2f9-afa6-4535-da7c-1becb41f6672",
        "colab": {
          "base_uri": "https://localhost:8080/",
          "height": 191
        }
      },
      "source": [
        "for epoch in range(10):\n",
        "    train_running_loss = 0.0\n",
        "    train_accuracy = 0.0\n",
        "    model.train()\n",
        "    \n",
        "    for i, data in enumerate(trainloader):\n",
        "        optimizer.zero_grad()\n",
        "        \n",
        "        inputs, labels = data\n",
        "        \n",
        "        inputs = inputs.view(-1, 1, 28, 28)\n",
        "        logits = model(inputs)\n",
        "        \n",
        "        loss = criterion(logits, labels)\n",
        "        \n",
        "        loss.backward()\n",
        "        optimizer.step()\n",
        "        \n",
        "        train_running_loss += loss.detach().item()\n",
        "        train_accuracy += get_accuracy(logits, labels, BATCH_SIZE)\n",
        "        \n",
        "    model.eval()\n",
        "    \n",
        "    print ('Epoch:  %d | Loss: %.4f | Train Accuracy: %.2f'%(epoch, train_running_loss / i, train_accuracy/i))"
      ],
      "execution_count": 14,
      "outputs": [
        {
          "output_type": "stream",
          "text": [
            "Epoch:  0 | Loss: 0.2763 | Train Accuracy: 91.08\n",
            "Epoch:  1 | Loss: 0.1577 | Train Accuracy: 95.10\n",
            "Epoch:  2 | Loss: 0.1533 | Train Accuracy: 95.44\n",
            "Epoch:  3 | Loss: 0.1478 | Train Accuracy: 95.75\n",
            "Epoch:  4 | Loss: 0.1392 | Train Accuracy: 95.98\n",
            "Epoch:  5 | Loss: 0.1456 | Train Accuracy: 95.94\n",
            "Epoch:  6 | Loss: 0.1344 | Train Accuracy: 96.34\n",
            "Epoch:  7 | Loss: 0.1267 | Train Accuracy: 96.46\n",
            "Epoch:  8 | Loss: 0.1220 | Train Accuracy: 96.70\n",
            "Epoch:  9 | Loss: 0.1276 | Train Accuracy: 96.61\n"
          ],
          "name": "stdout"
        }
      ]
    },
    {
      "cell_type": "code",
      "metadata": {
        "id": "lGZZlyzX4F1o",
        "colab_type": "code",
        "outputId": "4a1b532d-fc44-47d7-a36f-f51d1e757e08",
        "colab": {
          "base_uri": "https://localhost:8080/",
          "height": 34
        }
      },
      "source": [
        "test_acc = 0.0\n",
        "for i, data in enumerate(testloader, 0):\n",
        "    inputs, labels = data\n",
        "    inputs = inputs.view(-1, 1, 28, 28)\n",
        "\n",
        "    outputs = model(inputs)\n",
        "\n",
        "    test_acc += get_accuracy(outputs, labels, BATCH_SIZE)\n",
        "        \n",
        "print('Test Accuracy: %.2f'%( test_acc/i))"
      ],
      "execution_count": 15,
      "outputs": [
        {
          "output_type": "stream",
          "text": [
            "Test Accuracy: 96.35\n"
          ],
          "name": "stdout"
        }
      ]
    }
  ]
}